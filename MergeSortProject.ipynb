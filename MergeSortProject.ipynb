{
 "cells": [
  {
   "cell_type": "code",
   "execution_count": 2,
   "id": "c3a2f759-f3e6-4faa-886f-575322488984",
   "metadata": {},
   "outputs": [
    {
     "name": "stdout",
     "output_type": "stream",
     "text": [
      "Başlangıc: [22, 27, 16, 2, 18, 6]\n",
      "1. adım: [22, 27, 16, 2, 18, 6]\n",
      "2. adım: [16, 22, 27, 2, 18, 6]\n",
      "3. adım: [2, 16, 22, 27, 18, 6]\n",
      "4. adım: [2, 16, 18, 22, 27, 6]\n",
      "5. adım: [2, 6, 16, 18, 22, 27]\n"
     ]
    },
    {
     "data": {
      "text/plain": [
       "[2, 6, 16, 18, 22, 27]"
      ]
     },
     "execution_count": 2,
     "metadata": {},
     "output_type": "execute_result"
    }
   ],
   "source": [
    "def insertion_sort(arr):\n",
    "    print(\"Başlangıc:\", arr)\n",
    "    for i in range(1, len(arr)):\n",
    "        key = arr[i]\n",
    "        j = i - 1\n",
    "\n",
    "        # Elemanları sağa kaydır\n",
    "        while j >= 0 and arr[j] > key:\n",
    "            arr[j + 1] = arr[j]\n",
    "            j -= 1\n",
    "\n",
    "        arr[j + 1] = key\n",
    "        print(f\"{i}. adım:\", arr)\n",
    "    return arr\n",
    "\n",
    "# Örnek dizi\n",
    "dizi = [22, 27, 16, 2, 18, 6]\n",
    "insertion_sort(dizi)\n"
   ]
  },
  {
   "cell_type": "code",
   "execution_count": 3,
   "id": "f8ed8e66-c284-470b-b708-b54fb098b264",
   "metadata": {},
   "outputs": [
    {
     "name": "stdout",
     "output_type": "stream",
     "text": [
      "Adım: [11, 21]\n",
      "Adım: [11, 16, 21]\n",
      "Adım: [12, 22]\n",
      "Adım: [8, 12, 22]\n",
      "Adım: [8, 11, 12, 16, 21, 22]\n"
     ]
    }
   ],
   "source": [
    "def merge_sort(arr):\n",
    "    if len(arr) > 1:\n",
    "        mid = len(arr) // 2 \n",
    "        left = arr[:mid]    \n",
    "        right = arr[mid:]\n",
    "\n",
    "        merge_sort(left)\n",
    "        merge_sort(right)\n",
    "\n",
    "        i = j = k = 0\n",
    "\n",
    "        while i < len(left) and j < len(right):\n",
    "            if left[i] < right[j]:\n",
    "                arr[k] = left[i]\n",
    "                i += 1\n",
    "            else:\n",
    "                arr[k] = right[j]\n",
    "                j += 1\n",
    "            k += 1\n",
    "\n",
    "        while i < len(left):\n",
    "            arr[k] = left[i]\n",
    "            i += 1\n",
    "            k += 1\n",
    "\n",
    "        while j < len(right):\n",
    "            arr[k] = right[j]\n",
    "            j += 1\n",
    "            k += 1\n",
    "\n",
    "        print(\"Adım:\", arr) \n",
    "\n",
    "dizi = [16, 21, 11, 8, 12, 22]\n",
    "merge_sort(dizi)\n"
   ]
  },
  {
   "cell_type": "code",
   "execution_count": null,
   "id": "98e6d9df-1c17-4db3-9221-54094add07db",
   "metadata": {},
   "outputs": [],
   "source": []
  }
 ],
 "metadata": {
  "kernelspec": {
   "display_name": "Python 3 (ipykernel)",
   "language": "python",
   "name": "python3"
  },
  "language_info": {
   "codemirror_mode": {
    "name": "ipython",
    "version": 3
   },
   "file_extension": ".py",
   "mimetype": "text/x-python",
   "name": "python",
   "nbconvert_exporter": "python",
   "pygments_lexer": "ipython3",
   "version": "3.12.7"
  }
 },
 "nbformat": 4,
 "nbformat_minor": 5
}
